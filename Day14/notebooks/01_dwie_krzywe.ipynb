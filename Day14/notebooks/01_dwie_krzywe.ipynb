{
 "cells": [
  {
   "cell_type": "code",
   "execution_count": null,
   "metadata": {},
   "outputs": [],
   "source": [
    "import pandas as pd\n",
    "import matplotlib.pyplot as plt\n",
    "import matplotlib.patches as mpatches\n",
    "import ustawienia"
   ]
  },
  {
   "cell_type": "code",
   "execution_count": null,
   "metadata": {},
   "outputs": [],
   "source": [
    "planets_df = pd.read_sql_table('planets','sqlite:///dane/swapi.db', index_col='id')"
   ]
  },
  {
   "cell_type": "code",
   "execution_count": null,
   "metadata": {},
   "outputs": [],
   "source": [
    "planets_df.head()"
   ]
  },
  {
   "cell_type": "markdown",
   "metadata": {},
   "source": [
    "# Jak buduje się wykresy?\n",
    "### Odrobina terminologii\n",
    "<img src=\"ilustracje/axes_vs_axis.png\">"
   ]
  },
  {
   "cell_type": "markdown",
   "metadata": {},
   "source": [
    "### Dwie krzywe na jednym wykresie, jedna oś Y"
   ]
  },
  {
   "cell_type": "code",
   "execution_count": null,
   "metadata": {},
   "outputs": [],
   "source": [
    "# fig - obiekt `figure` zawierjący wykresy; obszar\n",
    "# ax - obiekty reprezentujace wykresy składowe\n",
    "fig, ax = plt.subplots(figsize=ustawienia.rozmiary)\n",
    "\n",
    "# pierwszy wykres to krzywa prezentująca kolejne średnice planet, rysowana w kolorze niebieskim\n",
    "ax.plot(planets_df.diameter, color='blue')\n",
    "\n",
    "# zmiana wartości domyślnej dla osi 'y'. W tym przypadku ustawiamy kolor niebieski dla wartości opisowych na osi\n",
    "ax.tick_params(axis='y', labelcolor='blue')\n",
    "\n",
    "# dodajemy drugą krzywą reprezentującą kolejne okresy orbitalne (czas obrotu)\n",
    "ax.plot(planets_df.orbital_period, color='green')"
   ]
  },
  {
   "cell_type": "markdown",
   "metadata": {},
   "source": [
    "Dlaczego zielona krzywa praktycznie nie zmienia się?"
   ]
  },
  {
   "cell_type": "markdown",
   "metadata": {},
   "source": [
    "### Dwie krzywe na jednym wykresie, dwie osie Y"
   ]
  },
  {
   "cell_type": "code",
   "execution_count": null,
   "metadata": {},
   "outputs": [],
   "source": [
    "fig, ax = plt.subplots(figsize=ustawienia.rozmiary)\n",
    "\n",
    "ax.plot(planets_df.diameter, color='blue')\n",
    "ax.tick_params(axis='y', labelcolor='blue')\n",
    "\n",
    "# tworzymy drugi wykres, dziedziczący oś 'x', ale wartości wykresu mają drugą, niezależnie skalowaną oś 'y'\n",
    "ax2 = ax.twinx()\n",
    "\n",
    "ax2.plot(planets_df.orbital_period, color='green')\n",
    "ax2.tick_params(axis='y', labelcolor='green')"
   ]
  },
  {
   "cell_type": "markdown",
   "metadata": {},
   "source": [
    "### Zmiana opisu osi, zmiana stylu rysowania krzywych"
   ]
  },
  {
   "cell_type": "code",
   "execution_count": null,
   "metadata": {},
   "outputs": [],
   "source": [
    "fig, ax = plt.subplots(figsize=ustawienia.rozmiary)\n",
    "\n",
    "# zmiana szerokości linii\n",
    "ax.plot(planets_df.diameter, color='blue', linewidth=4)\n",
    "ax.tick_params(axis='y', labelcolor='blue')\n",
    "\n",
    "# opis osi Y\n",
    "ax.set_ylabel('Diameter') \n",
    "\n",
    "ax2 = ax.twinx()\n",
    "# zmiana stylu linii (wzór)\n",
    "ax2.plot(planets_df.orbital_period, color='green', linestyle='--')\n",
    "ax2.tick_params(axis='y', labelcolor='green')\n",
    "\n",
    "# opis drugiej osi Y\n",
    "ax2.set_ylabel('Orbital period')"
   ]
  },
  {
   "cell_type": "markdown",
   "metadata": {},
   "source": [
    "### Dodanie tytułu wykresu, opisów na osiach oraz legendy"
   ]
  },
  {
   "cell_type": "code",
   "execution_count": null,
   "metadata": {},
   "outputs": [],
   "source": [
    "fig, ax = plt.subplots(figsize=ustawienia.rozmiary)\n",
    "\n",
    "# dodanie parametru `label` opisującego nazwę krzywej w legendzie\n",
    "ax.plot(planets_df.diameter, color='blue', linewidth=4, label='Średnica')\n",
    "\n",
    "# określenie umiejscowienia legendy. Opis lokalizacji: https://matplotlib.org/api/_as_gen/matplotlib.axes.Axes.legend.html?highlight=legend#matplotlib.axes.Axes.legend\n",
    "ax.legend(loc=2) \n",
    "\n",
    "ax.tick_params(axis='y', labelcolor='blue')\n",
    "ax.set_ylabel('Diameter') \n",
    "\n",
    "# tytuł wykresu\n",
    "ax.set_title('Tytuł wykresu')\n",
    "\n",
    "# opis osi x\n",
    "ax.set_xlabel('Nr kolejny próbki')\n",
    "\n",
    "ax2 = ax.twinx()\n",
    "ax2.plot(planets_df.orbital_period, color='green', linestyle='--', label='Okres orbitalny')\n",
    "ax2.legend(loc=3)\n",
    "\n",
    "ax2.tick_params(axis='y', labelcolor='green')\n",
    "ax2.set_ylabel('Orbital period')"
   ]
  },
  {
   "cell_type": "markdown",
   "metadata": {},
   "source": [
    "### Dodanie markerów, \"trybu\" schodkowego, dodanie adnotacji i rysunków"
   ]
  },
  {
   "cell_type": "code",
   "execution_count": null,
   "metadata": {},
   "outputs": [],
   "source": [
    "fig, ax = plt.subplots(figsize=ustawienia.rozmiary)\n",
    "\n",
    "# dodanie parametru `label` opisującego nazwę krzywej w legendzie\n",
    "# Więcej informacji: https://matplotlib.org/api/markers_api.html#module-matplotlib.markers\n",
    "# Szerokość linii przywrócona do wartości domyślnej (1)\n",
    "ax.plot(planets_df.diameter, color='blue', linewidth=1, label='Średnica', marker='v')\n",
    "\n",
    "ax.legend(loc=2) \n",
    "ax.tick_params(axis='y', labelcolor='blue')\n",
    "ax.set_ylabel('Diameter') \n",
    "ax.set_title('Tytuł wykresu')\n",
    "ax.set_xlabel('Nr kolejny próbki')\n",
    "\n",
    "# dodanie adnotacji\n",
    "# współrzędne to nie koordynaty w pikselach; to współrzędne odpowiadające wartościom danych na wykresie\n",
    "ax.text(7, 115000, 'Wspólne maksimum(10)', family='monospace', fontsize=16)\n",
    "\n",
    "ax2 = ax.twinx()\n",
    "\n",
    "# krzywa drukowana będzie jako \"schodki\"\n",
    "ax2.plot(planets_df.orbital_period, color='green', linestyle='--', label='Okres orbitalny', marker='+', drawstyle='steps-post')\n",
    "ax2.legend(loc=3)\n",
    "ax2.tick_params(axis='y', labelcolor='green')\n",
    "ax2.set_ylabel('Orbital period')\n",
    "\n",
    "# dodanie elipsy, która ma reprezentować planetę ;-)\n",
    "# (50, 4000) to koordynaty zgodne z wartościami dla ax2\n",
    "planeta = mpatches.Ellipse(xy=(50, 4000), width=3, height=300, color='red')\n",
    "ax2.add_patch(planeta)"
   ]
  },
  {
   "cell_type": "markdown",
   "metadata": {},
   "source": [
    "### Kilka wykresów na jednym obszarze roboczym"
   ]
  },
  {
   "cell_type": "code",
   "execution_count": null,
   "metadata": {
    "scrolled": true
   },
   "outputs": [],
   "source": [
    "import numpy as np\n",
    "\n",
    "fig = plt.figure(figsize=ustawienia.rozmiary)\n",
    "\n",
    "# definicja kolejnych subplotów\n",
    "ax1 = fig.add_subplot(2,2,1)\n",
    "ax2 = fig.add_subplot(2,2,2)\n",
    "ax3 = fig.add_subplot(2,2,3)\n",
    "\n",
    "# seria 50 wartości losowych, rysowanych w kolorze czarnym przy pomocy przerywanej linii\n",
    "ax1.plot(np.random.randn(50), 'k--')\n",
    "\n",
    "ax2.plot(np.random.randn(50))\n",
    "ax3.plot(np.random.randn(50), 'ko--')"
   ]
  }
 ],
 "metadata": {
  "kernelspec": {
   "display_name": "Python 3",
   "language": "python",
   "name": "python3"
  },
  "language_info": {
   "codemirror_mode": {
    "name": "ipython",
    "version": 3
   },
   "file_extension": ".py",
   "mimetype": "text/x-python",
   "name": "python",
   "nbconvert_exporter": "python",
   "pygments_lexer": "ipython3",
   "version": "3.7.1"
  }
 },
 "nbformat": 4,
 "nbformat_minor": 2
}
