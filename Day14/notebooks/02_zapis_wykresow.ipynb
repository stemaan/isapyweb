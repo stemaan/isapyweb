{
 "cells": [
  {
   "cell_type": "code",
   "execution_count": null,
   "metadata": {},
   "outputs": [],
   "source": [
    "import pandas as pd\n",
    "import matplotlib.pyplot as plt\n",
    "import ustawienia"
   ]
  },
  {
   "cell_type": "markdown",
   "metadata": {},
   "source": [
    "# Utrwalanie wykresów"
   ]
  },
  {
   "cell_type": "markdown",
   "metadata": {},
   "source": [
    "Przygotowujemy wykres"
   ]
  },
  {
   "cell_type": "code",
   "execution_count": null,
   "metadata": {},
   "outputs": [],
   "source": [
    "female_births_df = pd.read_csv('dane/daily-total-female-births-in-cal.csv', index_col='Date', parse_dates=True)\n",
    "female_births_df.drop(female_births_df.tail(1).index, inplace=True)\n",
    "female_births_df = female_births_df.rename({'Daily total female births in California, 1959': 'births'}, axis='columns')\n",
    "female_births_df.index = pd.PeriodIndex(start='1959', freq='D', periods=365)\n",
    "chart = female_births_df.plot(figsize=ustawienia.rozmiary)"
   ]
  },
  {
   "cell_type": "markdown",
   "metadata": {},
   "source": [
    "Zapisujemy obraz w formacie PNG i PDF"
   ]
  },
  {
   "cell_type": "code",
   "execution_count": null,
   "metadata": {},
   "outputs": [],
   "source": [
    "chart_obj = chart.get_figure()\n",
    "chart_obj.savefig('chart.png')\n",
    "chart_obj.savefig('chart.pdf')"
   ]
  }
 ],
 "metadata": {
  "kernelspec": {
   "display_name": "Python 3",
   "language": "python",
   "name": "python3"
  },
  "language_info": {
   "codemirror_mode": {
    "name": "ipython",
    "version": 3
   },
   "file_extension": ".py",
   "mimetype": "text/x-python",
   "name": "python",
   "nbconvert_exporter": "python",
   "pygments_lexer": "ipython3",
   "version": "3.7.1"
  }
 },
 "nbformat": 4,
 "nbformat_minor": 2
}
