{
 "cells": [
  {
   "cell_type": "markdown",
   "metadata": {},
   "source": [
    "# Eksport Notebooka"
   ]
  },
  {
   "cell_type": "markdown",
   "metadata": {},
   "source": [
    "Jupyter notebok posiada opcję eksportu notebooka do jednego z kilku formatów: \n",
    "- HTML\n",
    "- LaTeX\n",
    "- Markdown\n",
    "- PDF\n",
    "- Slajdów [Reveal.js](https://revealjs.com/#/) \n",
    "- Pliku wykonywalnego z rozszerzeniem `.py`"
   ]
  },
  {
   "cell_type": "markdown",
   "metadata": {},
   "source": [
    "<img src='ilustracje/export.png' >"
   ]
  },
  {
   "cell_type": "markdown",
   "metadata": {},
   "source": [
    "# Eksport do PDF\n",
    "Aby możliwe było wyeksportowanie notebooka do PDF niebędna jest instalacja podstawowych pluginów, które dokonają konwersji:\n",
    "- [Pandoc](https://github.com/jgm/pandoc/releases/tag/2.3.1)\n",
    "- [MiKTeX](https://miktex.org/)"
   ]
  },
  {
   "cell_type": "markdown",
   "metadata": {},
   "source": [
    "Pluginy trzeba zainstalować wg instrukcji przygotowanych przez twórców pluginów (`pip3 install` nie da rady)."
   ]
  }
 ],
 "metadata": {
  "kernelspec": {
   "display_name": "Python 3",
   "language": "python",
   "name": "python3"
  },
  "language_info": {
   "codemirror_mode": {
    "name": "ipython",
    "version": 3
   },
   "file_extension": ".py",
   "mimetype": "text/x-python",
   "name": "python",
   "nbconvert_exporter": "python",
   "pygments_lexer": "ipython3",
   "version": "3.7.1"
  }
 },
 "nbformat": 4,
 "nbformat_minor": 2
}
