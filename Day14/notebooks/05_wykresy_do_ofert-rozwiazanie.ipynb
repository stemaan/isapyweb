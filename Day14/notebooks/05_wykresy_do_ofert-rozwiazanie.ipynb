{
 "cells": [
  {
   "cell_type": "markdown",
   "metadata": {},
   "source": [
    "# Wizualizacja danych ofertowych"
   ]
  },
  {
   "cell_type": "markdown",
   "metadata": {},
   "source": [
    "### Dwie osie 'Y', różne charakterystyki"
   ]
  },
  {
   "cell_type": "markdown",
   "metadata": {},
   "source": [
    "Przygotuj wykres oparty o tabelę `oferty` z bazy sqlite3 umieszczonej w katalogu `dane`:\n",
    "1. wykres zawiera dwie krzywe (średnia cena i średni przebieg) w dziedzinie roku produkcji (oś X) dla wybranego modelu samochodu,\n",
    "1. każda krzywa ma **swoją** oś Y,\n",
    "1. uzupełnij wykres odpowiednimi opisami, użyj różnych markerów i różnych kolorów,\n",
    "1. podpowiedź: użyj `group_by` dla kolumny rok_produkcji"
   ]
  },
  {
   "cell_type": "code",
   "execution_count": null,
   "metadata": {},
   "outputs": [],
   "source": [
    "import pandas as pd\n",
    "import matplotlib.pyplot as plt\n",
    "import ustawienia"
   ]
  },
  {
   "cell_type": "code",
   "execution_count": null,
   "metadata": {},
   "outputs": [],
   "source": [
    "oferty_df          = pd.read_sql_table('oferty','sqlite:///dane/oferty.db', index_col='idx')\n",
    "oferty_bmw_f10     = oferty_df[oferty_df['typ'] == 'F10 (2009-2017)']\n",
    "oferty_pogrupowane = oferty_bmw_f10.groupby('rok_produkcji')\n",
    "\n",
    "fig, ax = plt.subplots(figsize=ustawienia.rozmiary)\n",
    "ax.set_title(\"Dwie osie 'Y', różne charakterystyki\")\n",
    "ax.set_xlabel('Rocznik')\n",
    "\n",
    "ax.plot(oferty_pogrupowane.przebieg.mean(), color='blue', marker='+', label='Średni przebieg')\n",
    "ax.set_ylabel('Średni przebieg [km]')\n",
    "ax.tick_params(axis='y', labelcolor='blue')\n",
    "ax.legend(loc=2)\n",
    "\n",
    "ax2 = ax.twinx()\n",
    "ax2.plot(oferty_pogrupowane.cena.mean(), color='red', marker='v', label='Średnia cena')\n",
    "ax2.set_ylabel('Średnia cena [PLN]')\n",
    "ax2.tick_params(axis='y', labelcolor='red')\n",
    "ax2.legend(loc=3)"
   ]
  },
  {
   "cell_type": "markdown",
   "metadata": {},
   "source": [
    "### Porównanie cen różnych modeli"
   ]
  },
  {
   "cell_type": "markdown",
   "metadata": {},
   "source": [
    "Przygotuj wykres oparty o tabelę `oferty` z bazy sqlite3 umieszczonej w katalogu `dane`:\n",
    "1. wykres zawiera trzy krzywe (średnia cena) w dziedzinie roku produkcji (oś X) dla trzech wybranych modeli samochodów,\n",
    "1. wykres ma **jedną** oś Y,\n",
    "1. uzupełnij wykres odpowiednimi opisami, użyj różnych markerów i różnych kolorów,\n",
    "1. podpowiedź: użyj `group_by` dla kolumny rok_produkcji"
   ]
  },
  {
   "cell_type": "code",
   "execution_count": null,
   "metadata": {},
   "outputs": [],
   "source": [
    "oferty_bmw_f10          = oferty_df[oferty_df['typ'] == 'F10 (2009-2017)']\n",
    "oferty_bmw_pogrupowane  = oferty_bmw_f10.groupby('rok_produkcji')\n",
    "\n",
    "oferty_ford_focus_mk3   = oferty_df[oferty_df['typ'] == 'Mk3 (2010-)']\n",
    "oferty_ford_pogrupowane = oferty_ford_focus_mk3.groupby('rok_produkcji')\n",
    "\n",
    "oferty_vw_passat_b7     = oferty_df[oferty_df['typ'] == 'B7 (2010-2014)']\n",
    "oferty_vw_pogrupowane   = oferty_vw_passat_b7.groupby('rok_produkcji')\n",
    "\n",
    "fig, ax = plt.subplots(figsize=ustawienia.rozmiary)\n",
    "ax.set_title(\"Jedna oś 'Y', porównanie cen różnych marek\")\n",
    "ax.set_xlabel('Rocznik')\n",
    "ax.set_ylabel('Średnia cena [PLN]')\n",
    "\n",
    "ax.plot(oferty_bmw_pogrupowane.przebieg.mean(), color='blue', marker='+', label='BMW')\n",
    "ax.plot(oferty_ford_pogrupowane.przebieg.mean(), color='red', marker='o', label='Ford')\n",
    "ax.plot(oferty_vw_pogrupowane.przebieg.mean(), color='black', marker='v', label='VW')\n",
    "ax.legend(loc=2)"
   ]
  },
  {
   "cell_type": "markdown",
   "metadata": {},
   "source": [
    "### Wykorzystanie `subplot` i zapis wyniku"
   ]
  },
  {
   "cell_type": "markdown",
   "metadata": {},
   "source": [
    "1. Korzystając z wypracowanych właśnie \"przepisów\" na wykresy, umieść oba wykresy obok siebie na jednym obszarze (`figure`) \n",
    "1. Zapisz obszar z oboma wykresami do pliku PDF. Użyj `obiekt_figure.savefig('kompletny_obraz.pdf')`"
   ]
  },
  {
   "cell_type": "code",
   "execution_count": null,
   "metadata": {},
   "outputs": [],
   "source": [
    "fig = plt.figure(figsize=ustawienia.rozmiary)\n",
    "\n",
    "ax11 = fig.add_subplot(1,2,1)\n",
    "ax21 = fig.add_subplot(1,2,2)\n",
    "\n",
    "oferty_df          = pd.read_sql_table('oferty','sqlite:///dane/oferty.db', index_col='idx')\n",
    "oferty_bmw_f10     = oferty_df[oferty_df['typ'] == 'F10 (2009-2017)']\n",
    "oferty_pogrupowane = oferty_bmw_f10.groupby('rok_produkcji')\n",
    "\n",
    "ax11.set_title(\"Dwie osie 'Y', różne charakterystyki\")\n",
    "ax11.set_xlabel('Rocznik')\n",
    "\n",
    "ax11.plot(oferty_pogrupowane.przebieg.mean(), color='blue', marker='+', label='Średni przebieg')\n",
    "ax11.set_ylabel('Średni przebieg [km]')\n",
    "ax11.tick_params(axis='y', labelcolor='blue')\n",
    "ax11.legend(loc=2)\n",
    "\n",
    "ax12 = ax11.twinx()\n",
    "ax12.plot(oferty_pogrupowane.cena.mean(), color='red', marker='v', label='Średnia cena')\n",
    "ax12.set_ylabel('Średnia cena [PLN]')\n",
    "ax12.tick_params(axis='y', labelcolor='red')\n",
    "ax12.legend(loc=3)\n",
    "\n",
    "oferty_bmw_f10          = oferty_df[oferty_df['typ'] == 'F10 (2009-2017)']\n",
    "oferty_bmw_pogrupowane  = oferty_bmw_f10.groupby('rok_produkcji')\n",
    "\n",
    "oferty_ford_focus_mk3   = oferty_df[oferty_df['typ'] == 'Mk3 (2010-)']\n",
    "oferty_ford_pogrupowane = oferty_ford_focus_mk3.groupby('rok_produkcji')\n",
    "\n",
    "oferty_vw_passat_b7     = oferty_df[oferty_df['typ'] == 'B7 (2010-2014)']\n",
    "oferty_vw_pogrupowane   = oferty_vw_passat_b7.groupby('rok_produkcji')\n",
    "\n",
    "ax21.set_title(\"Jedna oś 'Y', porównanie cen różnych marek\")\n",
    "ax21.set_xlabel('Rocznik')\n",
    "ax21.set_ylabel('Średnia cena [PLN]')\n",
    "\n",
    "ax21.plot(oferty_bmw_pogrupowane.przebieg.mean(), color='blue', marker='+', label='BMW')\n",
    "ax21.plot(oferty_ford_pogrupowane.przebieg.mean(), color='red', marker='o', label='Ford')\n",
    "ax21.plot(oferty_vw_pogrupowane.przebieg.mean(), color='black', marker='v', label='VW')\n",
    "ax21.legend(loc=2)\n",
    "\n",
    "fig.savefig('kompletny_obraz.pdf')"
   ]
  }
 ],
 "metadata": {
  "kernelspec": {
   "display_name": "Python 3",
   "language": "python",
   "name": "python3"
  },
  "language_info": {
   "codemirror_mode": {
    "name": "ipython",
    "version": 3
   },
   "file_extension": ".py",
   "mimetype": "text/x-python",
   "name": "python",
   "nbconvert_exporter": "python",
   "pygments_lexer": "ipython3",
   "version": "3.7.1"
  }
 },
 "nbformat": 4,
 "nbformat_minor": 2
}
