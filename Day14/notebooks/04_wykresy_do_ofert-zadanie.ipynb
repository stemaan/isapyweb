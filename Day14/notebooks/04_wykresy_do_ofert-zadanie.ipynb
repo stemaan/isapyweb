{
 "cells": [
  {
   "cell_type": "markdown",
   "metadata": {},
   "source": [
    "# Wizualizacja danych ofertowych"
   ]
  },
  {
   "cell_type": "markdown",
   "metadata": {},
   "source": [
    "### Dwie osie 'Y', różne charakterystyki"
   ]
  },
  {
   "cell_type": "markdown",
   "metadata": {},
   "source": [
    "Przygotuj wykres oparty o tabelę `oferty` z bazy sqlite3 umieszczonej w katalogu `dane`:\n",
    "1. wykres zawiera dwie krzywe (średnia cena i średni przebieg) w dziedzinie roku produkcji (oś X) dla wybranego modelu samochodu,\n",
    "1. każda krzywa ma **swoją** oś Y,\n",
    "1. uzupełnij wykres odpowiednimi opisami, użyj różnych markerów i różnych kolorów,\n",
    "1. podpowiedź: użyj `group_by` dla kolumny rok_produkcji"
   ]
  },
  {
   "cell_type": "code",
   "execution_count": null,
   "metadata": {},
   "outputs": [],
   "source": []
  },
  {
   "cell_type": "markdown",
   "metadata": {},
   "source": [
    "### Porównanie cen różnych modeli"
   ]
  },
  {
   "cell_type": "markdown",
   "metadata": {},
   "source": [
    "Przygotuj wykres oparty o tabelę `oferty` z bazy sqlite3 umieszczonej w katalogu `dane`:\n",
    "1. wykres zawiera trzy krzywe (średnia cena) w dziedzinie roku produkcji (oś X) dla trzech wybranych modeli samochodów,\n",
    "1. wykres ma **jedną** oś Y,\n",
    "1. uzupełnij wykres odpowiednimi opisami, użyj różnych markerów i różnych kolorów,\n",
    "1. podpowiedź: użyj `group_by` dla kolumny rok_produkcji"
   ]
  },
  {
   "cell_type": "code",
   "execution_count": null,
   "metadata": {},
   "outputs": [],
   "source": []
  },
  {
   "cell_type": "markdown",
   "metadata": {},
   "source": [
    "### Wykorzystanie `subplot` i zapis wyniku"
   ]
  },
  {
   "cell_type": "markdown",
   "metadata": {},
   "source": [
    "1. Korzystając z wypracowanych właśnie \"przepisów\" na wykresy, umieść oba wykresy obok siebie na jednym obszarze (`figure`) \n",
    "1. Zapisz obszar z oboma wykresami do pliku PDF"
   ]
  },
  {
   "cell_type": "code",
   "execution_count": null,
   "metadata": {},
   "outputs": [],
   "source": []
  }
 ],
 "metadata": {
  "kernelspec": {
   "display_name": "Python 3",
   "language": "python",
   "name": "python3"
  },
  "language_info": {
   "codemirror_mode": {
    "name": "ipython",
    "version": 3
   },
   "file_extension": ".py",
   "mimetype": "text/x-python",
   "name": "python",
   "nbconvert_exporter": "python",
   "pygments_lexer": "ipython3",
   "version": "3.7.1"
  }
 },
 "nbformat": 4,
 "nbformat_minor": 2
}
